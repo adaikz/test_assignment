{
 "cells": [
  {
   "cell_type": "code",
   "execution_count": 1,
   "id": "75c9fc54-5b91-451f-833d-15ed35f9b1de",
   "metadata": {},
   "outputs": [],
   "source": [
    "import findspark\n",
    "findspark.init()\n",
    "import pyspark"
   ]
  },
  {
   "cell_type": "code",
   "execution_count": 2,
   "id": "62fdaa1c-b6d7-451c-99af-ed686c6490e7",
   "metadata": {},
   "outputs": [],
   "source": [
    "from pyspark import SparkContext, SparkConf\n",
    "from pyspark.sql import SparkSession\n",
    "conf = pyspark.SparkConf().setAppName('signals_dataset').setMaster('local')\n",
    "sc = pyspark.SparkContext(conf=conf)\n",
    "spark = SparkSession(sc)"
   ]
  },
  {
   "cell_type": "code",
   "execution_count": 3,
   "id": "1eb7c19f-f334-4515-8960-93beed403d39",
   "metadata": {},
   "outputs": [
    {
     "data": {
      "text/html": [
       "\n",
       "            <div>\n",
       "                <p><b>SparkSession - in-memory</b></p>\n",
       "                \n",
       "        <div>\n",
       "            <p><b>SparkContext</b></p>\n",
       "\n",
       "            <p><a href=\"http://DESKTOP-ROFBU2D:4040\">Spark UI</a></p>\n",
       "\n",
       "            <dl>\n",
       "              <dt>Version</dt>\n",
       "                <dd><code>v3.5.0</code></dd>\n",
       "              <dt>Master</dt>\n",
       "                <dd><code>local</code></dd>\n",
       "              <dt>AppName</dt>\n",
       "                <dd><code>signals_dataset</code></dd>\n",
       "            </dl>\n",
       "        </div>\n",
       "        \n",
       "            </div>\n",
       "        "
      ],
      "text/plain": [
       "<pyspark.sql.session.SparkSession at 0x183a878b530>"
      ]
     },
     "execution_count": 3,
     "metadata": {},
     "output_type": "execute_result"
    }
   ],
   "source": [
    "spark"
   ]
  },
  {
   "cell_type": "code",
   "execution_count": 4,
   "id": "1e5b0af2-dea2-493c-882d-3bc0f8880c94",
   "metadata": {},
   "outputs": [
    {
     "name": "stderr",
     "output_type": "stream",
     "text": [
      "<>:1: SyntaxWarning: invalid escape sequence '\\T'\n",
      "<>:1: SyntaxWarning: invalid escape sequence '\\T'\n",
      "C:\\Users\\Lenovo5Pro\\AppData\\Local\\Temp\\ipykernel_4900\\522719453.py:1: SyntaxWarning: invalid escape sequence '\\T'\n",
      "  par_df = spark.read.parquet(\"C:\\Temp\\signals\\part-00000-8b43448f-2282-4fe6-a5cc-64cdf61b750e-c000.snappy.parquet\")\n"
     ]
    }
   ],
   "source": [
    "par_df = spark.read.parquet(\"path_to_input_file\")"
   ]
  },
  {
   "cell_type": "code",
   "execution_count": 5,
   "id": "c119cf11-d447-4fc9-93ef-db6082baed51",
   "metadata": {},
   "outputs": [
    {
     "name": "stdout",
     "output_type": "stream",
     "text": [
      "+---------+-------+------+--------+------------+\n",
      "|entity_id|item_id|source|month_id|signal_count|\n",
      "+---------+-------+------+--------+------------+\n",
      "|   359781|  20001| 21000|  201705|           1|\n",
      "|   359781|  20001| 21000|  201707|           1|\n",
      "|   359781|      3| 21000|  201708|           2|\n",
      "|   359781|      3| 21000|  201712|           2|\n",
      "|   359781|      3|   975|  201512|           4|\n",
      "|   359781|      3| 21000|  201710|           2|\n",
      "|   359781|      3| 21000|  201705|           3|\n",
      "|   359781|      3|   600|  201410|           1|\n",
      "|   359781|      3| 21000|  201707|           3|\n",
      "|   359781|  10002| 21000|  201705|           1|\n",
      "|   359781|  10002| 21000|  201707|           1|\n",
      "|   359781|  10001| 21000|  201705|           1|\n",
      "|   359781|  10001| 21000|  201707|           1|\n",
      "|135043968|  20000| 21000|  201706|           1|\n",
      "|135043968|  20000| 21000|  201707|           1|\n",
      "|135043968|      1| 21000|  201706|           1|\n",
      "|135043968|      1| 10002|  201704|           1|\n",
      "|135043968|      1| 21000|  201707|           1|\n",
      "|135043968|      1| 10002|  201609|           1|\n",
      "|152813413|  20000| 21000|  201704|           1|\n",
      "+---------+-------+------+--------+------------+\n",
      "only showing top 20 rows\n",
      "\n"
     ]
    }
   ],
   "source": [
    "par_df.show()"
   ]
  },
  {
   "cell_type": "code",
   "execution_count": 6,
   "id": "5e02a74b-53e4-4105-8ad0-b48ed550a61b",
   "metadata": {},
   "outputs": [
    {
     "name": "stdout",
     "output_type": "stream",
     "text": [
      "+---------+--------------+--------------+-------------+\n",
      "|entity_id|oldest_item_id|newest_item_id|total_signals|\n",
      "+---------+--------------+--------------+-------------+\n",
      "|101554284|         10001|         10001|            2|\n",
      "|130290759|             1|             1|          603|\n",
      "|202066407|         20000|         20000|            1|\n",
      "|211874530|             0|             0|           53|\n",
      "|197565900|             2|             2|           54|\n",
      "|171040125|         10001|         10001|            2|\n",
      "|257416567|         10001|         10001|            2|\n",
      "|190979372|             2|             1|           20|\n",
      "|   680989|             0|             0|           32|\n",
      "|179037429|         10001|         10001|            2|\n",
      "|294275250|             3|             3|           11|\n",
      "|189341470|         10001|         10001|            2|\n",
      "| 65059978|             1|             1|          472|\n",
      "|220897278|             2|             1|           66|\n",
      "|218643663|         10001|         10001|            2|\n",
      "|262621214|         20001|         20001|            1|\n",
      "|170686564|             0|             0|            3|\n",
      "|565150778|         10001|         10001|            2|\n",
      "|152813413|         10000|         10000|            2|\n",
      "|194407883|             2|             2|           14|\n",
      "+---------+--------------+--------------+-------------+\n",
      "only showing top 20 rows\n",
      "\n"
     ]
    }
   ],
   "source": [
    "from pyspark.sql.functions import col, min, max, sum as spark_sum, collect_list, desc\n",
    "\n",
    "# Aggregate to find oldest and newest month_id for each entity_id and item_id\n",
    "agg_df = par_df.groupBy(\"entity_id\", \"item_id\").agg(min(\"month_id\").alias(\"oldest_month_id\"),\n",
    "                        max(\"month_id\").alias(\"newest_month_id\"),\n",
    "                        spark_sum(\"signal_count\").alias(\"total_signals\"))\n",
    "\n",
    "# Find the oldest and newest month_id\n",
    "oldest_item_df = agg_df.orderBy(\"oldest_month_id\", \"item_id\").groupBy(\"entity_id\").agg(collect_list(\"item_id\")[0].alias(\"oldest_item_id\"))\n",
    "newest_item_df = agg_df.orderBy(desc(\"newest_month_id\"), \"item_id\").groupBy(\"entity_id\").agg(collect_list(\"item_id\")[0].alias(\"newest_item_id\"))\n",
    "\n",
    "# Join the oldest and newest \n",
    "result_df = oldest_item_df.join(newest_item_df, \"entity_id\", \"inner\")\n",
    "\n",
    "# Join signals sums to the final result df\n",
    "result_df = result_df.join(agg_df.groupBy(\"entity_id\").agg(spark_sum(\"total_signals\").alias(\"total_signals\")), \"entity_id\", \"inner\")\n",
    "\n",
    "result_df.show()\n",
    "\n",
    "\n",
    "\n"
   ]
  },
  {
   "cell_type": "code",
   "execution_count": 24,
   "id": "4ec23716-a5d2-4aec-973c-a4174f454d50",
   "metadata": {},
   "outputs": [],
   "source": [
    "result_df.write.parquet(r\"path_to_output_folder\", mode=\"overwrite\")"
   ]
  },
  {
   "cell_type": "code",
   "execution_count": null,
   "id": "437fbe1e-ef3a-49fc-8437-c8ea0e2a4b39",
   "metadata": {},
   "outputs": [],
   "source": []
  }
 ],
 "metadata": {
  "kernelspec": {
   "display_name": "Python 3 (ipykernel)",
   "language": "python",
   "name": "python3"
  },
  "language_info": {
   "codemirror_mode": {
    "name": "ipython",
    "version": 3
   },
   "file_extension": ".py",
   "mimetype": "text/x-python",
   "name": "python",
   "nbconvert_exporter": "python",
   "pygments_lexer": "ipython3",
   "version": "3.12.2"
  }
 },
 "nbformat": 4,
 "nbformat_minor": 5
}
